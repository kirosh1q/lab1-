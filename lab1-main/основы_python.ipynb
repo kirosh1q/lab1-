{
  "cells": [
    {
      "cell_type": "markdown",
      "metadata": {
        "id": "M-DGa20PaHnu"
      },
      "source": [
        "#Задача 1\n",
        "Написать функцию на вход которой подается строка, состоящая из латинских букв.\n",
        "Функция должна вернуть количество гласных букв (a, e, i, o, u) в этой строке. Написать тесты для кода"
      ]
    },
    {
      "cell_type": "code",
      "execution_count": 1,
      "metadata": {
        "id": "XvX8X_JJ6PCb"
      },
      "outputs": [
        {
          "name": "stdout",
          "output_type": "stream",
          "text": [
            "Все тесты пройдены.\n"
          ]
        }
      ],
      "source": [
        "def count_vowels(a):\n",
        "    vowels = set(\"aeiouAEIOU\")\n",
        "    return sum(1 for char in a if char in vowels)\n",
        "\n",
        "def test_count_vowels():\n",
        "    assert count_vowels(\"hello\") == 2, \"Ошибка теста с 'hello'\"\n",
        "    assert count_vowels(\"world\") == 1, \"Ошибка теста с 'world'\"\n",
        "    assert count_vowels(\"AEIOUaeiou\") == 10, \"Ошибка теста с 'AEIOUaeiou'\"\n",
        "    assert count_vowels(\"xyz\") == 0, \"Ошибка теста с 'xyz'\"\n",
        "    assert count_vowels(\"\") == 0, \"Ошибка теста с пустотой\"\n",
        "    assert count_vowels(\"The Data Science\") == 6, \"Ошибка теста с 'The Data Science'\"\n",
        "    \n",
        "    print(\"Все тесты пройдены.\")\n",
        "\n",
        "test_count_vowels()\n"
      ]
    },
    {
      "cell_type": "markdown",
      "metadata": {
        "id": "t2ClV_Y0bbr6"
      },
      "source": [
        "# Задача 2\n",
        "Написать функцию на вход, которой подается строка. Функция должна вернуть true, если\n",
        "каждый символ в строке встречается только 1 раз, иначе должна вернуть false. Написать тесты для кода"
      ]
    },
    {
      "cell_type": "code",
      "execution_count": 4,
      "metadata": {
        "id": "FppbECao6VIz"
      },
      "outputs": [
        {
          "name": "stdout",
          "output_type": "stream",
          "text": [
            "Все тесты пройдены.\n"
          ]
        }
      ],
      "source": [
        "def unique_characters(a):\n",
        "    return len(set(a)) == len(a)\n",
        "\n",
        "def test_unique_characters():\n",
        "    assert unique_characters(\"hello\") == False, \"Ошибка теста с 'hello'\"\n",
        "    assert unique_characters(\"world\") == True, \"Ошибка теста с 'world'\"\n",
        "    assert unique_characters(\"\") == True, \"Ошибка теста с пустоой\"\n",
        "    assert unique_characters(\"abcdefg\") == True, \"Ошибка теста с 'abcdefg'\"\n",
        "    assert unique_characters(\"abcdeefg\") == False, \"Ошибка теста с 'abcdeefg'\"\n",
        "    \n",
        "    print(\"Все тесты пройдены.\")\n",
        "\n",
        "test_unique_characters()\n"
      ]
    },
    {
      "cell_type": "markdown",
      "metadata": {
        "id": "udRiIK1cdt6E"
      },
      "source": [
        "# Задача 3\n",
        "Написать функцию, которая принимает положительное число и возвращает количество\n",
        "бит равных 1 в этом числе. Написать тесты для кода"
      ]
    },
    {
      "cell_type": "code",
      "execution_count": 3,
      "metadata": {
        "id": "6tkfDJRz6dp_"
      },
      "outputs": [
        {
          "name": "stdout",
          "output_type": "stream",
          "text": [
            "Все тесты пройдены.\n"
          ]
        }
      ],
      "source": [
        "def bits(n):\n",
        "    return bin(n).count('1')\n",
        "\n",
        "def test_bits_couinting():\n",
        "    assert bits(0) == 0, \"Ошибка теста с 0\"\n",
        "    assert bits(1) == 1, \"Ошибка теста с 1\"\n",
        "    assert bits(2) == 1, \"Ошибка теста с 2\"\n",
        "    assert bits(3) == 2, \"Ошибка теста с 3\"\n",
        "    assert bits(4) == 1, \"Ошибка теста с 4\"\n",
        "    assert bits(7) == 3, \"Ошибка теста с 7\"\n",
        "    assert bits(1023) == 10, \"Ошибка теста с 1023\"\n",
        "    assert bits(1024) == 1, \"Ошибка теста с 1024\"\n",
        "    \n",
        "    print(\"Все тесты пройдены.\")\n",
        "\n",
        "test_bits_couinting()"
      ]
    },
    {
      "cell_type": "markdown",
      "metadata": {
        "id": "26dDUz-Ae17N"
      },
      "source": [
        "# Задача 4\n",
        "Написать функцию, которая принимает положительное число. Функция должна вернуть то,\n",
        "сколько раз необходимо перемножать цифры числа или результат перемножения, чтобы\n",
        "получилось число состоящее из одной цифры.\n",
        "Например, для входного числа:\n",
        "· 39 функция должна вернуть 3, так как 3*9=27 => 2*7=14 => 1*4=4\n",
        "· 4 функция должна вернуть 0, так как число уже состоит из одной цифры\n",
        "· 999 функция должна вернуть 4, так как 9*9*9=729 => 7*2*9=126 => 1*2*6=12 =>\n",
        "1*2=2. Написать тесты для кода"
      ]
    },
    {
      "cell_type": "code",
      "execution_count": 2,
      "metadata": {
        "id": "BH1A_Mgi6i4G"
      },
      "outputs": [
        {
          "name": "stdout",
          "output_type": "stream",
          "text": [
            "Все тесты пройдены.\n"
          ]
        }
      ],
      "source": [
        "def magic(n):\n",
        "    if n < 10:\n",
        "        return 0\n",
        "    count = 0\n",
        "    while n >= 10:\n",
        "        n = reduce(lambda x, y: x * y, map(int, str(n)))\n",
        "        count += 1\n",
        "    return count\n",
        "\n",
        "from functools import reduce\n",
        "\n",
        "def test_magic():\n",
        "    assert magic(39) == 3, \"Ошибка теста с 39\"\n",
        "    assert magic(4) == 0, \"Ошибка теста с 4\"\n",
        "    assert magic(999) == 4, \"Ошибка теста с 999\"\n",
        "    assert magic(25) == 2, \"Ошибка теста с 25\"\n",
        "    assert magic(100) == 1, \"Ошибка теста с 100\"\n",
        "    \n",
        "    print(\"Все тесты пройдены.\")\n",
        "\n",
        "test_magic()"
      ]
    },
    {
      "cell_type": "markdown",
      "metadata": {
        "id": "0nS-kIa8g8vd"
      },
      "source": [
        "# Задача 5\n",
        "Написать функцию, которая принимает два целочисленных вектора одинаковой длины и\n",
        "возвращает среднеквадратическое отклонение двух векторов. Написать тесты для кода"
      ]
    },
    {
      "cell_type": "code",
      "execution_count": 1,
      "metadata": {
        "id": "8iphx4LM6xbx"
      },
      "outputs": [
        {
          "name": "stdout",
          "output_type": "stream",
          "text": [
            "Все тесты пройдены.\n"
          ]
        }
      ],
      "source": [
        "def mse(pred, true):\n",
        "    if len(pred) != len(true):\n",
        "        raise ValueError(\"Векторы должны быть одинаковой длины\")\n",
        "    squared_diffs = [(p - t) ** 2 for p, t in zip(pred, true)]\n",
        "    return sum(squared_diffs) / len(pred)\n",
        "\n",
        "def test_mse():\n",
        "    assert mse([1, 2, 3], [1, 2, 3]) == 0.0, \"Ошибка теста с [1, 2, 3] и [1, 2, 3]\"\n",
        "    assert mse([2, 2, 2], [1, 2, 3]) == 2/3, \"Ошибка теста с [2, 2, 2] и [1, 2, 3]\"\n",
        "    assert mse([0, 0, 0], [1, 1, 1]) == 1.0, \"Ошибка теста с [0, 0, 0] и [1, 1, 1]\"\n",
        "    assert mse([4, 5, 6], [1, 2, 3]) == 9.0, \"Ошибка теста с [4, 5, 6] и [1, 2, 3]\"\n",
        "    assert mse([-1, -2, -3], [-1, -2, -3]) == 0.0, \"Ошибка теста с [-1, -2, -3] и [-1, -2, -3]\"\n",
        "    \n",
        "    print(\"Все тесты пройдены.\")\n",
        "\n",
        "test_mse()\n"
      ]
    },
    {
      "cell_type": "markdown",
      "metadata": {
        "id": "vpIPKL439zkw"
      },
      "source": [
        "# Задача 6\n",
        "Написать функцию, принимающая целое положительное число. Функция должна вернуть\n",
        "строку вида “(n1**p1)(n2**p2)…(nk**pk)” представляющая разложение числа на простые\n",
        "множители (если pi == 1, то выводить только ni).\n",
        "Например, для числа 86240 функция должна вернуть “(2**5)(5)(7**2)(11)”. Написать тесты для кода"
      ]
    },
    {
      "cell_type": "code",
      "execution_count": 16,
      "metadata": {
        "id": "pFebmcZk94Jw"
      },
      "outputs": [
        {
          "name": "stdout",
          "output_type": "stream",
          "text": [
            "Все тесты пройдены.\n"
          ]
        }
      ],
      "source": [
        "def simple(n):\n",
        "    i = 2\n",
        "    factors = {}\n",
        "    while i * i <= n:\n",
        "        while (n % i) == 0:\n",
        "            if i in factors:\n",
        "                factors[i] += 1\n",
        "            else:\n",
        "                factors[i] = 1\n",
        "            n //= i\n",
        "        i += 1\n",
        "    if n > 1:\n",
        "        factors[n] = 1\n",
        "    return ''.join(f\"({p}^{f})\" if f > 1 else f\"({p})\" for p, f in factors.items())\n",
        "\n",
        "def test_simple():\n",
        "    assert simple(86240) == \"(2^5)(5)(7^2)(11)\", \"Ошибка теста с 86240\"\n",
        "    assert simple(100) == \"(2^2)(5^2)\", \"Ошибка теста с 100\"\n",
        "    assert simple(17) == \"(17)\", \"Оибка теста с простым числом 17\"\n",
        "    assert simple(162) == \"(2)(3^4)\", \"Ошибка теста с простым числом 162\"\n",
        "    \n",
        "    print(\"Все тесты пройдены.\")\n",
        "\n",
        "test_simple()\n"
      ]
    },
    {
      "cell_type": "markdown",
      "metadata": {
        "id": "ps2s0BudX7A2"
      },
      "source": [
        "# Задача 7\n",
        "Написать функцию, принимающая целое число n, задающее количество кубиков. Функция\n",
        "должна определить, можно ли из данного кол-ва кубиков построить пирамиду, то есть\n",
        "можно ли представить число n как 1^2+2^2+3^2+…+k^2. Если можно, то функция должна\n",
        "вернуть k, иначе строку “It is impossible”. Написать тесты для кода"
      ]
    },
    {
      "cell_type": "code",
      "execution_count": 17,
      "metadata": {
        "id": "3YPjEXxhX_YT"
      },
      "outputs": [
        {
          "name": "stdout",
          "output_type": "stream",
          "text": [
            "Все тесты пройдены.\n"
          ]
        }
      ],
      "source": [
        "def pyramid(number):\n",
        "    k = 0\n",
        "    total = 0\n",
        "    while total < number:\n",
        "        k += 1\n",
        "        total += k**2\n",
        "    if total == number:\n",
        "        return k\n",
        "    else:\n",
        "        return \"It is impossible\"\n",
        "\n",
        "def test_pyramid():\n",
        "    assert pyramid(14) == 3, \"Ошибка теста с 14 (1^2 + 2^2 + 3^2)\"\n",
        "    assert pyramid(30) == 4, \"Ошибка теста с 30 (1^2 + 2^2 + 3^2 + 4^2)\"\n",
        "    assert pyramid(15) == \"It is impossible\", \"Ошибка теста с 15\"\n",
        "    \n",
        "    print(\"Все тесты пройдены.\")\n",
        "\n",
        "test_pyramid()\n"
      ]
    },
    {
      "cell_type": "markdown",
      "metadata": {
        "id": "KeKgmIdAQMEJ"
      },
      "source": [
        "# Задача 8\n",
        "Функция принимает на вход положительное число и определяет является ли оно сбалансированным, т.е. сумма цифр до средних равна сумме цифр после. Средними в случае нечетного числа цифр считать одну цифру, в случае четного - две средних. Написать тесты для кода"
      ]
    },
    {
      "cell_type": "code",
      "execution_count": 64,
      "metadata": {
        "id": "gMAAqtqlQrZt"
      },
      "outputs": [
        {
          "name": "stdout",
          "output_type": "stream",
          "text": [
            "Все тесты пройдены.\n"
          ]
        }
      ],
      "source": [
        "def balanced_number(number):\n",
        "    digits = [int(d) for d in str(number)]\n",
        "    length = len(digits)\n",
        "\n",
        "    if length % 2 == 0:\n",
        "        mid1 = length // 2 - 1\n",
        "        mid2 = mid1 + 1\n",
        "        left_sum = sum(digits[:mid1])      \n",
        "        right_sum = sum(digits[mid2 + 1:]) \n",
        "    else:\n",
        "        mid = length // 2\n",
        "        left_sum = sum(digits[:mid])       \n",
        "        right_sum = sum(digits[mid + 1:])  \n",
        "\n",
        "    return left_sum == right_sum\n",
        "\n",
        "def test_balanced_number():\n",
        "    assert balanced_number(123321) == True, \"Ошибка теста с 123321\"\n",
        "    assert balanced_number(12321) == True, \"Ошибка теста с 12321\"\n",
        "    assert balanced_number(1) == True, \"Ошибка теста с 1\"\n",
        "    assert balanced_number(1221) == True, \"Ошибка теста с 1221\"\n",
        "    assert balanced_number(123456) == False, \"Ошибка теста с 123456\"\n",
        "    assert balanced_number(15915) == True, \"Ошибка теста с 15915\"\n",
        "    \n",
        "    print(\"Все тесты пройдены.\")\n",
        "\n",
        "test_balanced_number()\n",
        "\n",
        "\n",
        "\n",
        "\n",
        "\n"
      ]
    }
  ],
  "metadata": {
    "colab": {
      "provenance": []
    },
    "kernelspec": {
      "display_name": "Python 3",
      "name": "python3"
    },
    "language_info": {
      "codemirror_mode": {
        "name": "ipython",
        "version": 3
      },
      "file_extension": ".py",
      "mimetype": "text/x-python",
      "name": "python",
      "nbconvert_exporter": "python",
      "pygments_lexer": "ipython3",
      "version": "3.11.5"
    }
  },
  "nbformat": 4,
  "nbformat_minor": 0
}
